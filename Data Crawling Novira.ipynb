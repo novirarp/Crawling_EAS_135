{
 "cells": [
  {
   "cell_type": "code",
   "execution_count": 33,
   "id": "ff81ffdf",
   "metadata": {},
   "outputs": [],
   "source": [
    "import pandas as pd"
   ]
  },
  {
   "cell_type": "code",
   "execution_count": 35,
   "id": "aecd9456",
   "metadata": {},
   "outputs": [],
   "source": [
    "puskesmas = 'https://dinkes.surabaya.go.id/portalv2/upt-dinas/puskesmas/'\n",
    "df = pd.read_html(puskesmas)"
   ]
  },
  {
   "cell_type": "code",
   "execution_count": 36,
   "id": "765c8bbd",
   "metadata": {},
   "outputs": [
    {
     "data": {
      "text/plain": [
       "1"
      ]
     },
     "execution_count": 36,
     "metadata": {},
     "output_type": "execute_result"
    }
   ],
   "source": [
    "len(df)"
   ]
  },
  {
   "cell_type": "code",
   "execution_count": 59,
   "id": "5922ce29",
   "metadata": {
    "scrolled": true
   },
   "outputs": [
    {
     "data": {
      "text/html": [
       "<div>\n",
       "<style scoped>\n",
       "    .dataframe tbody tr th:only-of-type {\n",
       "        vertical-align: middle;\n",
       "    }\n",
       "\n",
       "    .dataframe tbody tr th {\n",
       "        vertical-align: top;\n",
       "    }\n",
       "\n",
       "    .dataframe thead th {\n",
       "        text-align: right;\n",
       "    }\n",
       "</style>\n",
       "<table border=\"1\" class=\"dataframe\">\n",
       "  <thead>\n",
       "    <tr style=\"text-align: right;\">\n",
       "      <th></th>\n",
       "      <th>NO</th>\n",
       "      <th>PUSKESMAS</th>\n",
       "      <th>KEPALA PUSKESMAS</th>\n",
       "      <th>ALAMAT</th>\n",
       "      <th>TELEPON</th>\n",
       "    </tr>\n",
       "  </thead>\n",
       "  <tbody>\n",
       "    <tr>\n",
       "      <th>0</th>\n",
       "      <td>1</td>\n",
       "      <td>Asemrowo</td>\n",
       "      <td>dr. Diah Miryati</td>\n",
       "      <td>Jln. Asem Raya No. 8</td>\n",
       "      <td>(031) 5456122 / 081252965070</td>\n",
       "    </tr>\n",
       "    <tr>\n",
       "      <th>1</th>\n",
       "      <td>2</td>\n",
       "      <td>Balas Klumprik</td>\n",
       "      <td>dr. Yessy Pebriaty Sukatendel, MM</td>\n",
       "      <td>Jln. Raya Balas Klumprik</td>\n",
       "      <td>(031) 7665219</td>\n",
       "    </tr>\n",
       "    <tr>\n",
       "      <th>2</th>\n",
       "      <td>3</td>\n",
       "      <td>Balongsari</td>\n",
       "      <td>dr. Dewi Ayuning Asih</td>\n",
       "      <td>Jln. Balongsari Tama No. 2 Surabaya</td>\n",
       "      <td>(031) 7417104</td>\n",
       "    </tr>\n",
       "    <tr>\n",
       "      <th>3</th>\n",
       "      <td>4</td>\n",
       "      <td>Bangkingan</td>\n",
       "      <td>dr. Tri Indah Rachmawati</td>\n",
       "      <td>Jln. Banyu Urip Kidul 6/8</td>\n",
       "      <td>(031) 5685424 - 5615292 / 081334932007</td>\n",
       "    </tr>\n",
       "    <tr>\n",
       "      <th>4</th>\n",
       "      <td>5</td>\n",
       "      <td>Banyu Urip</td>\n",
       "      <td>dr. Winartuti Santoso, M.Kes</td>\n",
       "      <td>Jln. Banyu Urip Kidul 6/8</td>\n",
       "      <td>(031) 7405936</td>\n",
       "    </tr>\n",
       "    <tr>\n",
       "      <th>...</th>\n",
       "      <td>...</td>\n",
       "      <td>...</td>\n",
       "      <td>...</td>\n",
       "      <td>...</td>\n",
       "      <td>...</td>\n",
       "    </tr>\n",
       "    <tr>\n",
       "      <th>58</th>\n",
       "      <td>59</td>\n",
       "      <td>Tembok Dukuh</td>\n",
       "      <td>drg. Tiyas Pranadani</td>\n",
       "      <td>Jln. Kalibutuh No 26 Surabaya</td>\n",
       "      <td>(031) 5343410</td>\n",
       "    </tr>\n",
       "    <tr>\n",
       "      <th>59</th>\n",
       "      <td>60</td>\n",
       "      <td>Tenggilis</td>\n",
       "      <td>dr. Riana Restuti</td>\n",
       "      <td>Jln. Rungkut Mejoyo Selatan IV/P-48</td>\n",
       "      <td>(031) 8490234</td>\n",
       "    </tr>\n",
       "    <tr>\n",
       "      <th>60</th>\n",
       "      <td>61</td>\n",
       "      <td>Wiyung</td>\n",
       "      <td>dr. Tatien Tjahjandari</td>\n",
       "      <td>Jln. Menganti Wiyung Pasar No. 1</td>\n",
       "      <td>(031) 7532885 / 082143561187</td>\n",
       "    </tr>\n",
       "    <tr>\n",
       "      <th>61</th>\n",
       "      <td>62</td>\n",
       "      <td>Wonokromo</td>\n",
       "      <td>drg. Dwiana Yuniarti</td>\n",
       "      <td>Jln. Karangrejo VI/4</td>\n",
       "      <td>(031) 8281647 / 082143561190</td>\n",
       "    </tr>\n",
       "    <tr>\n",
       "      <th>62</th>\n",
       "      <td>63</td>\n",
       "      <td>Wonokusumo</td>\n",
       "      <td>dr. Heri Siswanto</td>\n",
       "      <td>Jln. Wonokusumo Tengah No.55</td>\n",
       "      <td>(031) 3717597</td>\n",
       "    </tr>\n",
       "  </tbody>\n",
       "</table>\n",
       "<p>63 rows × 5 columns</p>\n",
       "</div>"
      ],
      "text/plain": [
       "    NO       PUSKESMAS                   KEPALA PUSKESMAS  \\\n",
       "0    1        Asemrowo                   dr. Diah Miryati   \n",
       "1    2  Balas Klumprik  dr. Yessy Pebriaty Sukatendel, MM   \n",
       "2    3      Balongsari              dr. Dewi Ayuning Asih   \n",
       "3    4      Bangkingan           dr. Tri Indah Rachmawati   \n",
       "4    5      Banyu Urip       dr. Winartuti Santoso, M.Kes   \n",
       "..  ..             ...                                ...   \n",
       "58  59    Tembok Dukuh               drg. Tiyas Pranadani   \n",
       "59  60       Tenggilis                  dr. Riana Restuti   \n",
       "60  61          Wiyung             dr. Tatien Tjahjandari   \n",
       "61  62       Wonokromo               drg. Dwiana Yuniarti   \n",
       "62  63      Wonokusumo                  dr. Heri Siswanto   \n",
       "\n",
       "                                 ALAMAT  \\\n",
       "0                  Jln. Asem Raya No. 8   \n",
       "1              Jln. Raya Balas Klumprik   \n",
       "2   Jln. Balongsari Tama No. 2 Surabaya   \n",
       "3             Jln. Banyu Urip Kidul 6/8   \n",
       "4             Jln. Banyu Urip Kidul 6/8   \n",
       "..                                  ...   \n",
       "58        Jln. Kalibutuh No 26 Surabaya   \n",
       "59  Jln. Rungkut Mejoyo Selatan IV/P-48   \n",
       "60     Jln. Menganti Wiyung Pasar No. 1   \n",
       "61                 Jln. Karangrejo VI/4   \n",
       "62         Jln. Wonokusumo Tengah No.55   \n",
       "\n",
       "                                   TELEPON  \n",
       "0             (031) 5456122 / 081252965070  \n",
       "1                            (031) 7665219  \n",
       "2                            (031) 7417104  \n",
       "3   (031) 5685424 - 5615292 / 081334932007  \n",
       "4                            (031) 7405936  \n",
       "..                                     ...  \n",
       "58                           (031) 5343410  \n",
       "59                           (031) 8490234  \n",
       "60            (031) 7532885 / 082143561187  \n",
       "61            (031) 8281647 / 082143561190  \n",
       "62                           (031) 3717597  \n",
       "\n",
       "[63 rows x 5 columns]"
      ]
     },
     "execution_count": 59,
     "metadata": {},
     "output_type": "execute_result"
    }
   ],
   "source": [
    "df[0]"
   ]
  },
  {
   "cell_type": "code",
   "execution_count": 40,
   "id": "94e36afd",
   "metadata": {},
   "outputs": [],
   "source": [
    "from selenium import webdriver\n",
    "from bs4 import BeautifulSoup\n",
    "import pandas as pd"
   ]
  },
  {
   "cell_type": "code",
   "execution_count": 41,
   "id": "66f82aac",
   "metadata": {},
   "outputs": [],
   "source": [
    "options = webdriver.ChromeOptions()\n",
    "options.add_argument('--headless')\n",
    "options.add_argument('--no-sandbox')\n",
    "options.add_argument('--disable-dev-shm-usage')"
   ]
  },
  {
   "cell_type": "code",
   "execution_count": 43,
   "id": "62226858",
   "metadata": {},
   "outputs": [],
   "source": [
    "site = 'https://dinkes.surabaya.go.id/portalv2/upt-dinas/puskesmas/'"
   ]
  },
  {
   "cell_type": "code",
   "execution_count": 52,
   "id": "1c7ad2c8",
   "metadata": {},
   "outputs": [],
   "source": [
    "wd = webdriver.Chrome(options=options)\n",
    "wd.get(site)"
   ]
  },
  {
   "cell_type": "code",
   "execution_count": 53,
   "id": "da59f4d0",
   "metadata": {},
   "outputs": [],
   "source": [
    "html = wd.get(site)"
   ]
  },
  {
   "cell_type": "code",
   "execution_count": 55,
   "id": "32cfe02b",
   "metadata": {},
   "outputs": [],
   "source": [
    "df = pd.read_html(puskesmas)"
   ]
  },
  {
   "cell_type": "code",
   "execution_count": 56,
   "id": "bcb70526",
   "metadata": {},
   "outputs": [],
   "source": [
    "html = wd.page_source"
   ]
  },
  {
   "cell_type": "code",
   "execution_count": 32,
   "id": "4ba91ece",
   "metadata": {},
   "outputs": [],
   "source": [
    "df = pd.read_html(puskesmas)"
   ]
  },
  {
   "cell_type": "code",
   "execution_count": 60,
   "id": "b17cd81e",
   "metadata": {},
   "outputs": [],
   "source": [
    "df[0].to_csv('PUSKESMAS.csv')"
   ]
  },
  {
   "cell_type": "code",
   "execution_count": null,
   "id": "1299d3da",
   "metadata": {},
   "outputs": [],
   "source": []
  }
 ],
 "metadata": {
  "kernelspec": {
   "display_name": "Python 3 (ipykernel)",
   "language": "python",
   "name": "python3"
  },
  "language_info": {
   "codemirror_mode": {
    "name": "ipython",
    "version": 3
   },
   "file_extension": ".py",
   "mimetype": "text/x-python",
   "name": "python",
   "nbconvert_exporter": "python",
   "pygments_lexer": "ipython3",
   "version": "3.9.12"
  }
 },
 "nbformat": 4,
 "nbformat_minor": 5
}
